{
  "nbformat": 4,
  "nbformat_minor": 0,
  "metadata": {
    "colab": {
      "provenance": []
    },
    "kernelspec": {
      "name": "python3",
      "display_name": "Python 3"
    },
    "language_info": {
      "name": "python"
    }
  },
  "cells": [
    {
      "cell_type": "code",
      "execution_count": 1,
      "metadata": {
        "id": "f7HtJO7LW7ws"
      },
      "outputs": [],
      "source": [
        "#import all needed packages up front\n",
        "import pandas as pd\n",
        "import numpy as np\n",
        "from sklearn.linear_model import LinearRegression\n",
        "from sklearn.linear_model import LogisticRegression\n",
        "from sklearn.model_selection import train_test_split\n",
        "from sklearn.model_selection import cross_validate\n",
        "from sklearn.model_selection import GridSearchCV\n",
        "from sklearn.ensemble import RandomForestClassifier\n",
        "from sklearn.ensemble import GradientBoostingClassifier\n",
        "import matplotlib.pyplot as plt\n",
        "import seaborn as sns"
      ]
    },
    {
      "cell_type": "markdown",
      "source": [
        "It is very important for companies to understand why and when they will lose employees. This view of attrition can aid them in retaining top talent while also better planning for loss.\n",
        "\n",
        "Here we have a sample dataset where key features of employyes within a company have been kept and a value for whether that employee left (Yes or No) was provided at a snapshot in time.\n",
        "\n",
        "Our goal here will be to clean the data, select and tune a feaure set, then create and compare a few models which could assist the company in question address the attrition problem.\n",
        "\n",
        "**Credit goes to Prashant Patel (https://www.kaggle.com/patelprashant) from where the dataset has been collected**"
      ],
      "metadata": {
        "id": "rmIKsErmzgOL"
      }
    },
    {
      "cell_type": "code",
      "source": [
        "#read in the dataset\n",
        "df=pd.read_csv(\"https://www.dropbox.com/scl/fi/zkaa4dkvip5tkuhdtrrru/employee_attrition.csv?rlkey=urstk5jdsezbzj1da69bvjgf1&st=czxxh2kz&dl=1\")\n",
        "\n",
        "df.head()"
      ],
      "metadata": {
        "colab": {
          "base_uri": "https://localhost:8080/",
          "height": 325
        },
        "id": "-HNZk2vCXAWy",
        "outputId": "3591596f-5bdb-4bf0-f896-8bae33844b45"
      },
      "execution_count": 2,
      "outputs": [
        {
          "output_type": "execute_result",
          "data": {
            "text/plain": [
              "    Age Attrition     BusinessTravel  DailyRate              Department  \\\n",
              "0  50.0        No      Travel_Rarely     1126.0  Research & Development   \n",
              "1  36.0        No      Travel_Rarely      216.0  Research & Development   \n",
              "2  21.0       Yes      Travel_Rarely      337.0                   Sales   \n",
              "3  50.0        No  Travel_Frequently     1246.0         Human Resources   \n",
              "4  52.0        No      Travel_Rarely      994.0  Research & Development   \n",
              "\n",
              "   DistanceFromHome  Education EducationField  EmployeeCount  EmployeeNumber  \\\n",
              "0               1.0          2        Medical              1             997   \n",
              "1               6.0          2        Medical              1             178   \n",
              "2               7.0          1      Marketing              1            1780   \n",
              "3               NaN          3        Medical              1             644   \n",
              "4               7.0          4  Life Sciences              1            1118   \n",
              "\n",
              "   ...  RelationshipSatisfaction StandardHours  StockOptionLevel  \\\n",
              "0  ...                         3            80                 1   \n",
              "1  ...                         4            80                 2   \n",
              "2  ...                         2            80                 0   \n",
              "3  ...                         3            80                 1   \n",
              "4  ...                         4            80                 0   \n",
              "\n",
              "   TotalWorkingYears  TrainingTimesLastYear WorkLifeBalance  YearsAtCompany  \\\n",
              "0                 32                      1               2               5   \n",
              "1                  7                      0               3               3   \n",
              "2                  1                      3               3               1   \n",
              "3                 32                      2               3              32   \n",
              "4                 18                      4               3               8   \n",
              "\n",
              "  YearsInCurrentRole  YearsSinceLastPromotion  YearsWithCurrManager  \n",
              "0                  4                        1                     3  \n",
              "1                  2                        0                     1  \n",
              "2                  0                        1                     0  \n",
              "3                  5                       10                     7  \n",
              "4                  6                        4                     0  \n",
              "\n",
              "[5 rows x 35 columns]"
            ],
            "text/html": [
              "\n",
              "  <div id=\"df-fbce76cc-8886-4c17-b580-59b4bae13211\" class=\"colab-df-container\">\n",
              "    <div>\n",
              "<style scoped>\n",
              "    .dataframe tbody tr th:only-of-type {\n",
              "        vertical-align: middle;\n",
              "    }\n",
              "\n",
              "    .dataframe tbody tr th {\n",
              "        vertical-align: top;\n",
              "    }\n",
              "\n",
              "    .dataframe thead th {\n",
              "        text-align: right;\n",
              "    }\n",
              "</style>\n",
              "<table border=\"1\" class=\"dataframe\">\n",
              "  <thead>\n",
              "    <tr style=\"text-align: right;\">\n",
              "      <th></th>\n",
              "      <th>Age</th>\n",
              "      <th>Attrition</th>\n",
              "      <th>BusinessTravel</th>\n",
              "      <th>DailyRate</th>\n",
              "      <th>Department</th>\n",
              "      <th>DistanceFromHome</th>\n",
              "      <th>Education</th>\n",
              "      <th>EducationField</th>\n",
              "      <th>EmployeeCount</th>\n",
              "      <th>EmployeeNumber</th>\n",
              "      <th>...</th>\n",
              "      <th>RelationshipSatisfaction</th>\n",
              "      <th>StandardHours</th>\n",
              "      <th>StockOptionLevel</th>\n",
              "      <th>TotalWorkingYears</th>\n",
              "      <th>TrainingTimesLastYear</th>\n",
              "      <th>WorkLifeBalance</th>\n",
              "      <th>YearsAtCompany</th>\n",
              "      <th>YearsInCurrentRole</th>\n",
              "      <th>YearsSinceLastPromotion</th>\n",
              "      <th>YearsWithCurrManager</th>\n",
              "    </tr>\n",
              "  </thead>\n",
              "  <tbody>\n",
              "    <tr>\n",
              "      <th>0</th>\n",
              "      <td>50.0</td>\n",
              "      <td>No</td>\n",
              "      <td>Travel_Rarely</td>\n",
              "      <td>1126.0</td>\n",
              "      <td>Research &amp; Development</td>\n",
              "      <td>1.0</td>\n",
              "      <td>2</td>\n",
              "      <td>Medical</td>\n",
              "      <td>1</td>\n",
              "      <td>997</td>\n",
              "      <td>...</td>\n",
              "      <td>3</td>\n",
              "      <td>80</td>\n",
              "      <td>1</td>\n",
              "      <td>32</td>\n",
              "      <td>1</td>\n",
              "      <td>2</td>\n",
              "      <td>5</td>\n",
              "      <td>4</td>\n",
              "      <td>1</td>\n",
              "      <td>3</td>\n",
              "    </tr>\n",
              "    <tr>\n",
              "      <th>1</th>\n",
              "      <td>36.0</td>\n",
              "      <td>No</td>\n",
              "      <td>Travel_Rarely</td>\n",
              "      <td>216.0</td>\n",
              "      <td>Research &amp; Development</td>\n",
              "      <td>6.0</td>\n",
              "      <td>2</td>\n",
              "      <td>Medical</td>\n",
              "      <td>1</td>\n",
              "      <td>178</td>\n",
              "      <td>...</td>\n",
              "      <td>4</td>\n",
              "      <td>80</td>\n",
              "      <td>2</td>\n",
              "      <td>7</td>\n",
              "      <td>0</td>\n",
              "      <td>3</td>\n",
              "      <td>3</td>\n",
              "      <td>2</td>\n",
              "      <td>0</td>\n",
              "      <td>1</td>\n",
              "    </tr>\n",
              "    <tr>\n",
              "      <th>2</th>\n",
              "      <td>21.0</td>\n",
              "      <td>Yes</td>\n",
              "      <td>Travel_Rarely</td>\n",
              "      <td>337.0</td>\n",
              "      <td>Sales</td>\n",
              "      <td>7.0</td>\n",
              "      <td>1</td>\n",
              "      <td>Marketing</td>\n",
              "      <td>1</td>\n",
              "      <td>1780</td>\n",
              "      <td>...</td>\n",
              "      <td>2</td>\n",
              "      <td>80</td>\n",
              "      <td>0</td>\n",
              "      <td>1</td>\n",
              "      <td>3</td>\n",
              "      <td>3</td>\n",
              "      <td>1</td>\n",
              "      <td>0</td>\n",
              "      <td>1</td>\n",
              "      <td>0</td>\n",
              "    </tr>\n",
              "    <tr>\n",
              "      <th>3</th>\n",
              "      <td>50.0</td>\n",
              "      <td>No</td>\n",
              "      <td>Travel_Frequently</td>\n",
              "      <td>1246.0</td>\n",
              "      <td>Human Resources</td>\n",
              "      <td>NaN</td>\n",
              "      <td>3</td>\n",
              "      <td>Medical</td>\n",
              "      <td>1</td>\n",
              "      <td>644</td>\n",
              "      <td>...</td>\n",
              "      <td>3</td>\n",
              "      <td>80</td>\n",
              "      <td>1</td>\n",
              "      <td>32</td>\n",
              "      <td>2</td>\n",
              "      <td>3</td>\n",
              "      <td>32</td>\n",
              "      <td>5</td>\n",
              "      <td>10</td>\n",
              "      <td>7</td>\n",
              "    </tr>\n",
              "    <tr>\n",
              "      <th>4</th>\n",
              "      <td>52.0</td>\n",
              "      <td>No</td>\n",
              "      <td>Travel_Rarely</td>\n",
              "      <td>994.0</td>\n",
              "      <td>Research &amp; Development</td>\n",
              "      <td>7.0</td>\n",
              "      <td>4</td>\n",
              "      <td>Life Sciences</td>\n",
              "      <td>1</td>\n",
              "      <td>1118</td>\n",
              "      <td>...</td>\n",
              "      <td>4</td>\n",
              "      <td>80</td>\n",
              "      <td>0</td>\n",
              "      <td>18</td>\n",
              "      <td>4</td>\n",
              "      <td>3</td>\n",
              "      <td>8</td>\n",
              "      <td>6</td>\n",
              "      <td>4</td>\n",
              "      <td>0</td>\n",
              "    </tr>\n",
              "  </tbody>\n",
              "</table>\n",
              "<p>5 rows × 35 columns</p>\n",
              "</div>\n",
              "    <div class=\"colab-df-buttons\">\n",
              "\n",
              "  <div class=\"colab-df-container\">\n",
              "    <button class=\"colab-df-convert\" onclick=\"convertToInteractive('df-fbce76cc-8886-4c17-b580-59b4bae13211')\"\n",
              "            title=\"Convert this dataframe to an interactive table.\"\n",
              "            style=\"display:none;\">\n",
              "\n",
              "  <svg xmlns=\"http://www.w3.org/2000/svg\" height=\"24px\" viewBox=\"0 -960 960 960\">\n",
              "    <path d=\"M120-120v-720h720v720H120Zm60-500h600v-160H180v160Zm220 220h160v-160H400v160Zm0 220h160v-160H400v160ZM180-400h160v-160H180v160Zm440 0h160v-160H620v160ZM180-180h160v-160H180v160Zm440 0h160v-160H620v160Z\"/>\n",
              "  </svg>\n",
              "    </button>\n",
              "\n",
              "  <style>\n",
              "    .colab-df-container {\n",
              "      display:flex;\n",
              "      gap: 12px;\n",
              "    }\n",
              "\n",
              "    .colab-df-convert {\n",
              "      background-color: #E8F0FE;\n",
              "      border: none;\n",
              "      border-radius: 50%;\n",
              "      cursor: pointer;\n",
              "      display: none;\n",
              "      fill: #1967D2;\n",
              "      height: 32px;\n",
              "      padding: 0 0 0 0;\n",
              "      width: 32px;\n",
              "    }\n",
              "\n",
              "    .colab-df-convert:hover {\n",
              "      background-color: #E2EBFA;\n",
              "      box-shadow: 0px 1px 2px rgba(60, 64, 67, 0.3), 0px 1px 3px 1px rgba(60, 64, 67, 0.15);\n",
              "      fill: #174EA6;\n",
              "    }\n",
              "\n",
              "    .colab-df-buttons div {\n",
              "      margin-bottom: 4px;\n",
              "    }\n",
              "\n",
              "    [theme=dark] .colab-df-convert {\n",
              "      background-color: #3B4455;\n",
              "      fill: #D2E3FC;\n",
              "    }\n",
              "\n",
              "    [theme=dark] .colab-df-convert:hover {\n",
              "      background-color: #434B5C;\n",
              "      box-shadow: 0px 1px 3px 1px rgba(0, 0, 0, 0.15);\n",
              "      filter: drop-shadow(0px 1px 2px rgba(0, 0, 0, 0.3));\n",
              "      fill: #FFFFFF;\n",
              "    }\n",
              "  </style>\n",
              "\n",
              "    <script>\n",
              "      const buttonEl =\n",
              "        document.querySelector('#df-fbce76cc-8886-4c17-b580-59b4bae13211 button.colab-df-convert');\n",
              "      buttonEl.style.display =\n",
              "        google.colab.kernel.accessAllowed ? 'block' : 'none';\n",
              "\n",
              "      async function convertToInteractive(key) {\n",
              "        const element = document.querySelector('#df-fbce76cc-8886-4c17-b580-59b4bae13211');\n",
              "        const dataTable =\n",
              "          await google.colab.kernel.invokeFunction('convertToInteractive',\n",
              "                                                    [key], {});\n",
              "        if (!dataTable) return;\n",
              "\n",
              "        const docLinkHtml = 'Like what you see? Visit the ' +\n",
              "          '<a target=\"_blank\" href=https://colab.research.google.com/notebooks/data_table.ipynb>data table notebook</a>'\n",
              "          + ' to learn more about interactive tables.';\n",
              "        element.innerHTML = '';\n",
              "        dataTable['output_type'] = 'display_data';\n",
              "        await google.colab.output.renderOutput(dataTable, element);\n",
              "        const docLink = document.createElement('div');\n",
              "        docLink.innerHTML = docLinkHtml;\n",
              "        element.appendChild(docLink);\n",
              "      }\n",
              "    </script>\n",
              "  </div>\n",
              "\n",
              "\n",
              "<div id=\"df-39ff91bb-f66b-41e3-a919-26c3d4fbcfd0\">\n",
              "  <button class=\"colab-df-quickchart\" onclick=\"quickchart('df-39ff91bb-f66b-41e3-a919-26c3d4fbcfd0')\"\n",
              "            title=\"Suggest charts\"\n",
              "            style=\"display:none;\">\n",
              "\n",
              "<svg xmlns=\"http://www.w3.org/2000/svg\" height=\"24px\"viewBox=\"0 0 24 24\"\n",
              "     width=\"24px\">\n",
              "    <g>\n",
              "        <path d=\"M19 3H5c-1.1 0-2 .9-2 2v14c0 1.1.9 2 2 2h14c1.1 0 2-.9 2-2V5c0-1.1-.9-2-2-2zM9 17H7v-7h2v7zm4 0h-2V7h2v10zm4 0h-2v-4h2v4z\"/>\n",
              "    </g>\n",
              "</svg>\n",
              "  </button>\n",
              "\n",
              "<style>\n",
              "  .colab-df-quickchart {\n",
              "      --bg-color: #E8F0FE;\n",
              "      --fill-color: #1967D2;\n",
              "      --hover-bg-color: #E2EBFA;\n",
              "      --hover-fill-color: #174EA6;\n",
              "      --disabled-fill-color: #AAA;\n",
              "      --disabled-bg-color: #DDD;\n",
              "  }\n",
              "\n",
              "  [theme=dark] .colab-df-quickchart {\n",
              "      --bg-color: #3B4455;\n",
              "      --fill-color: #D2E3FC;\n",
              "      --hover-bg-color: #434B5C;\n",
              "      --hover-fill-color: #FFFFFF;\n",
              "      --disabled-bg-color: #3B4455;\n",
              "      --disabled-fill-color: #666;\n",
              "  }\n",
              "\n",
              "  .colab-df-quickchart {\n",
              "    background-color: var(--bg-color);\n",
              "    border: none;\n",
              "    border-radius: 50%;\n",
              "    cursor: pointer;\n",
              "    display: none;\n",
              "    fill: var(--fill-color);\n",
              "    height: 32px;\n",
              "    padding: 0;\n",
              "    width: 32px;\n",
              "  }\n",
              "\n",
              "  .colab-df-quickchart:hover {\n",
              "    background-color: var(--hover-bg-color);\n",
              "    box-shadow: 0 1px 2px rgba(60, 64, 67, 0.3), 0 1px 3px 1px rgba(60, 64, 67, 0.15);\n",
              "    fill: var(--button-hover-fill-color);\n",
              "  }\n",
              "\n",
              "  .colab-df-quickchart-complete:disabled,\n",
              "  .colab-df-quickchart-complete:disabled:hover {\n",
              "    background-color: var(--disabled-bg-color);\n",
              "    fill: var(--disabled-fill-color);\n",
              "    box-shadow: none;\n",
              "  }\n",
              "\n",
              "  .colab-df-spinner {\n",
              "    border: 2px solid var(--fill-color);\n",
              "    border-color: transparent;\n",
              "    border-bottom-color: var(--fill-color);\n",
              "    animation:\n",
              "      spin 1s steps(1) infinite;\n",
              "  }\n",
              "\n",
              "  @keyframes spin {\n",
              "    0% {\n",
              "      border-color: transparent;\n",
              "      border-bottom-color: var(--fill-color);\n",
              "      border-left-color: var(--fill-color);\n",
              "    }\n",
              "    20% {\n",
              "      border-color: transparent;\n",
              "      border-left-color: var(--fill-color);\n",
              "      border-top-color: var(--fill-color);\n",
              "    }\n",
              "    30% {\n",
              "      border-color: transparent;\n",
              "      border-left-color: var(--fill-color);\n",
              "      border-top-color: var(--fill-color);\n",
              "      border-right-color: var(--fill-color);\n",
              "    }\n",
              "    40% {\n",
              "      border-color: transparent;\n",
              "      border-right-color: var(--fill-color);\n",
              "      border-top-color: var(--fill-color);\n",
              "    }\n",
              "    60% {\n",
              "      border-color: transparent;\n",
              "      border-right-color: var(--fill-color);\n",
              "    }\n",
              "    80% {\n",
              "      border-color: transparent;\n",
              "      border-right-color: var(--fill-color);\n",
              "      border-bottom-color: var(--fill-color);\n",
              "    }\n",
              "    90% {\n",
              "      border-color: transparent;\n",
              "      border-bottom-color: var(--fill-color);\n",
              "    }\n",
              "  }\n",
              "</style>\n",
              "\n",
              "  <script>\n",
              "    async function quickchart(key) {\n",
              "      const quickchartButtonEl =\n",
              "        document.querySelector('#' + key + ' button');\n",
              "      quickchartButtonEl.disabled = true;  // To prevent multiple clicks.\n",
              "      quickchartButtonEl.classList.add('colab-df-spinner');\n",
              "      try {\n",
              "        const charts = await google.colab.kernel.invokeFunction(\n",
              "            'suggestCharts', [key], {});\n",
              "      } catch (error) {\n",
              "        console.error('Error during call to suggestCharts:', error);\n",
              "      }\n",
              "      quickchartButtonEl.classList.remove('colab-df-spinner');\n",
              "      quickchartButtonEl.classList.add('colab-df-quickchart-complete');\n",
              "    }\n",
              "    (() => {\n",
              "      let quickchartButtonEl =\n",
              "        document.querySelector('#df-39ff91bb-f66b-41e3-a919-26c3d4fbcfd0 button');\n",
              "      quickchartButtonEl.style.display =\n",
              "        google.colab.kernel.accessAllowed ? 'block' : 'none';\n",
              "    })();\n",
              "  </script>\n",
              "</div>\n",
              "\n",
              "    </div>\n",
              "  </div>\n"
            ],
            "application/vnd.google.colaboratory.intrinsic+json": {
              "type": "dataframe",
              "variable_name": "df"
            }
          },
          "metadata": {},
          "execution_count": 2
        }
      ]
    },
    {
      "cell_type": "code",
      "source": [
        "#adjust the target variable to be 1 or 0\n",
        "df[\"Attrition\"]=df[\"Attrition\"].apply(lambda x: 1 if x==\"Yes\" else 0)"
      ],
      "metadata": {
        "id": "No27CyMv5bDM"
      },
      "execution_count": 3,
      "outputs": []
    },
    {
      "cell_type": "markdown",
      "source": [
        "One quick view of what our dataframe looks like."
      ],
      "metadata": {
        "id": "2-7BPQ960Z3Q"
      }
    },
    {
      "cell_type": "code",
      "source": [
        "df.info()"
      ],
      "metadata": {
        "colab": {
          "base_uri": "https://localhost:8080/"
        },
        "id": "_CVyrNKh4rYb",
        "outputId": "648a4256-30bf-4986-964e-2d5e45e03bf2"
      },
      "execution_count": 4,
      "outputs": [
        {
          "output_type": "stream",
          "name": "stdout",
          "text": [
            "<class 'pandas.core.frame.DataFrame'>\n",
            "RangeIndex: 1029 entries, 0 to 1028\n",
            "Data columns (total 35 columns):\n",
            " #   Column                    Non-Null Count  Dtype  \n",
            "---  ------                    --------------  -----  \n",
            " 0   Age                       893 non-null    float64\n",
            " 1   Attrition                 1029 non-null   int64  \n",
            " 2   BusinessTravel            1024 non-null   object \n",
            " 3   DailyRate                 1002 non-null   float64\n",
            " 4   Department                1029 non-null   object \n",
            " 5   DistanceFromHome          934 non-null    float64\n",
            " 6   Education                 1029 non-null   int64  \n",
            " 7   EducationField            1029 non-null   object \n",
            " 8   EmployeeCount             1029 non-null   int64  \n",
            " 9   EmployeeNumber            1029 non-null   int64  \n",
            " 10  EnvironmentSatisfaction   1029 non-null   int64  \n",
            " 11  Gender                    1029 non-null   object \n",
            " 12  HourlyRate                1029 non-null   int64  \n",
            " 13  JobInvolvement            1029 non-null   int64  \n",
            " 14  JobLevel                  1029 non-null   int64  \n",
            " 15  JobRole                   1029 non-null   object \n",
            " 16  JobSatisfaction           1029 non-null   int64  \n",
            " 17  MaritalStatus             1024 non-null   object \n",
            " 18  MonthlyIncome             1029 non-null   int64  \n",
            " 19  MonthlyRate               1029 non-null   int64  \n",
            " 20  NumCompaniesWorked        1029 non-null   int64  \n",
            " 21  Over18                    1029 non-null   object \n",
            " 22  OverTime                  1029 non-null   object \n",
            " 23  PercentSalaryHike         1029 non-null   int64  \n",
            " 24  PerformanceRating         1029 non-null   int64  \n",
            " 25  RelationshipSatisfaction  1029 non-null   int64  \n",
            " 26  StandardHours             1029 non-null   int64  \n",
            " 27  StockOptionLevel          1029 non-null   int64  \n",
            " 28  TotalWorkingYears         1029 non-null   int64  \n",
            " 29  TrainingTimesLastYear     1029 non-null   int64  \n",
            " 30  WorkLifeBalance           1029 non-null   int64  \n",
            " 31  YearsAtCompany            1029 non-null   int64  \n",
            " 32  YearsInCurrentRole        1029 non-null   int64  \n",
            " 33  YearsSinceLastPromotion   1029 non-null   int64  \n",
            " 34  YearsWithCurrManager      1029 non-null   int64  \n",
            "dtypes: float64(3), int64(24), object(8)\n",
            "memory usage: 281.5+ KB\n"
          ]
        }
      ]
    },
    {
      "cell_type": "markdown",
      "source": [
        "We want to take a look at the object columns as these will need to be converted so that they are represented numerically."
      ],
      "metadata": {
        "id": "HL6Mb5v-0LTf"
      }
    },
    {
      "cell_type": "code",
      "source": [
        "for col in df.select_dtypes(include='object').columns:\n",
        "  print(df[col].value_counts())"
      ],
      "metadata": {
        "colab": {
          "base_uri": "https://localhost:8080/"
        },
        "id": "WQ9HVcir41na",
        "outputId": "5455c9c6-099d-40dc-e1e0-82d71ffe918b"
      },
      "execution_count": 5,
      "outputs": [
        {
          "output_type": "stream",
          "name": "stdout",
          "text": [
            "BusinessTravel\n",
            "Travel_Rarely        723\n",
            "Travel_Frequently    199\n",
            "Non-Travel           102\n",
            "Name: count, dtype: int64\n",
            "Department\n",
            "Research & Development    676\n",
            "Sales                     311\n",
            "Human Resources            42\n",
            "Name: count, dtype: int64\n",
            "EducationField\n",
            "Life Sciences       426\n",
            "Medical             328\n",
            "Marketing           110\n",
            "Technical Degree     82\n",
            "Other                66\n",
            "Human Resources      17\n",
            "Name: count, dtype: int64\n",
            "Gender\n",
            "Male      617\n",
            "Female    412\n",
            "Name: count, dtype: int64\n",
            "JobRole\n",
            "Sales Executive              217\n",
            "Research Scientist           214\n",
            "Laboratory Technician        179\n",
            "Manufacturing Director        95\n",
            "Healthcare Representative     89\n",
            "Manager                       73\n",
            "Sales Representative          66\n",
            "Research Director             62\n",
            "Human Resources               34\n",
            "Name: count, dtype: int64\n",
            "MaritalStatus\n",
            "Married     474\n",
            "Single      320\n",
            "Divorced    230\n",
            "Name: count, dtype: int64\n",
            "Over18\n",
            "Y    1029\n",
            "Name: count, dtype: int64\n",
            "OverTime\n",
            "No     731\n",
            "Yes    298\n",
            "Name: count, dtype: int64\n"
          ]
        }
      ]
    },
    {
      "cell_type": "markdown",
      "source": [
        "We are going to drop some columns which are missing a large number values, have no variablilty, and/or which clearly have collinearity. For the remaining object columns, we will use get_dummies for those, while ensuring we drop one from each set."
      ],
      "metadata": {
        "id": "dKaiAEAo0iTG"
      }
    },
    {
      "cell_type": "code",
      "source": [
        "#use get_dummies to convert object columns to numeric features\n",
        "df=pd.get_dummies(df, columns=['Gender',\"OverTime\",\"BusinessTravel\",\"Department\",\"EducationField\",\"JobRole\",\"MaritalStatus\"], drop_first=True, dtype=int)\n",
        "#drop columns that will not be useful, and may be harmful, to our model\n",
        "df.drop(columns=[\"Over18\",\"DistanceFromHome\",\"EmployeeCount\",\"EmployeeNumber\",\"DailyRate\",\"HourlyRate\"],inplace=True)"
      ],
      "metadata": {
        "id": "0gm8WKh8XVFf"
      },
      "execution_count": 6,
      "outputs": []
    },
    {
      "cell_type": "markdown",
      "source": [
        "From our iniital view of the data, we saw that Age was missing a large number of values. However, where attrition is concerned, it is reasonable to assume that Age could be a significant feature. Therefore, we will create a very simple linear regression model to fill in the missing Age values. We will select features for that very simple model based on correlations to the Age field."
      ],
      "metadata": {
        "id": "Y7BKh2se1Wzj"
      }
    },
    {
      "cell_type": "code",
      "source": [
        "#lool at all correlations versus the Age field\n",
        "correlation_matrix = df.corr()\n",
        "age_correlations = correlation_matrix['Age']\n",
        "print(age_correlations)"
      ],
      "metadata": {
        "colab": {
          "base_uri": "https://localhost:8080/"
        },
        "id": "7E1RmkD_8Qkn",
        "outputId": "e269bcd4-2b14-416e-d18b-4b34c95a0e2d"
      },
      "execution_count": 7,
      "outputs": [
        {
          "output_type": "stream",
          "name": "stdout",
          "text": [
            "Age                                  1.000000\n",
            "Attrition                           -0.175555\n",
            "Education                            0.226646\n",
            "EnvironmentSatisfaction             -0.024051\n",
            "JobInvolvement                       0.024176\n",
            "JobLevel                             0.506348\n",
            "JobSatisfaction                      0.007670\n",
            "MonthlyIncome                        0.492360\n",
            "MonthlyRate                          0.018697\n",
            "NumCompaniesWorked                   0.298354\n",
            "PercentSalaryHike                    0.011593\n",
            "PerformanceRating                    0.007457\n",
            "RelationshipSatisfaction             0.062533\n",
            "StandardHours                             NaN\n",
            "StockOptionLevel                     0.023282\n",
            "TotalWorkingYears                    0.676650\n",
            "TrainingTimesLastYear               -0.026077\n",
            "WorkLifeBalance                     -0.042949\n",
            "YearsAtCompany                       0.291798\n",
            "YearsInCurrentRole                   0.218028\n",
            "YearsSinceLastPromotion              0.178679\n",
            "YearsWithCurrManager                 0.186070\n",
            "Gender_Male                          0.012663\n",
            "OverTime_Yes                        -0.013611\n",
            "BusinessTravel_Travel_Frequently    -0.049995\n",
            "BusinessTravel_Travel_Rarely         0.072931\n",
            "Department_Research & Development    0.006722\n",
            "Department_Sales                    -0.026030\n",
            "EducationField_Life Sciences        -0.014555\n",
            "EducationField_Marketing             0.037174\n",
            "EducationField_Medical               0.016565\n",
            "EducationField_Other                -0.044943\n",
            "EducationField_Technical Degree     -0.006064\n",
            "JobRole_Human Resources             -0.025356\n",
            "JobRole_Laboratory Technician       -0.139663\n",
            "JobRole_Manager                      0.285131\n",
            "JobRole_Manufacturing Director       0.037921\n",
            "JobRole_Research Director            0.187800\n",
            "JobRole_Research Scientist          -0.158640\n",
            "JobRole_Sales Executive              0.026403\n",
            "JobRole_Sales Representative        -0.208113\n",
            "MaritalStatus_Married                0.113787\n",
            "MaritalStatus_Single                -0.132596\n",
            "Name: Age, dtype: float64\n"
          ]
        }
      ]
    },
    {
      "cell_type": "code",
      "source": [
        "#create subsets of rows with and without Age value\n",
        "hasAge=df[df['Age'].notna()]\n",
        "missingAge=df[df['Age'].isna()]\n",
        "\n",
        "#based on the correlation matrix, define features for our liner regression model\n",
        "features=['TotalWorkingYears','JobLevel','MonthlyIncome']\n",
        "\n",
        "#fit the model\n",
        "reg=LinearRegression()\n",
        "reg.fit(hasAge[features],hasAge['Age'])\n",
        "\n",
        "#predict and assign missing Age values\n",
        "df.loc[df['Age'].isna(),'Age']=reg.predict(missingAge[features])"
      ],
      "metadata": {
        "id": "ZvDuDaGMBzK4"
      },
      "execution_count": 8,
      "outputs": []
    },
    {
      "cell_type": "markdown",
      "source": [
        "To further eliminate non-useful features, we will programatically drop any which have no variance."
      ],
      "metadata": {
        "id": "QLqCt0-p2Kdf"
      }
    },
    {
      "cell_type": "code",
      "source": [
        "zero_variance=df.columns[df.var()== 0]\n",
        "df.drop(columns=zero_variance,inplace=True)"
      ],
      "metadata": {
        "id": "6BxcMoY9GIeq"
      },
      "execution_count": 9,
      "outputs": []
    },
    {
      "cell_type": "code",
      "source": [
        "df.info()"
      ],
      "metadata": {
        "colab": {
          "base_uri": "https://localhost:8080/"
        },
        "id": "AYMYxI_jJORD",
        "outputId": "316df437-15ca-445d-fef9-16e951a0b4ce"
      },
      "execution_count": 10,
      "outputs": [
        {
          "output_type": "stream",
          "name": "stdout",
          "text": [
            "<class 'pandas.core.frame.DataFrame'>\n",
            "RangeIndex: 1029 entries, 0 to 1028\n",
            "Data columns (total 42 columns):\n",
            " #   Column                             Non-Null Count  Dtype  \n",
            "---  ------                             --------------  -----  \n",
            " 0   Age                                1029 non-null   float64\n",
            " 1   Attrition                          1029 non-null   int64  \n",
            " 2   Education                          1029 non-null   int64  \n",
            " 3   EnvironmentSatisfaction            1029 non-null   int64  \n",
            " 4   JobInvolvement                     1029 non-null   int64  \n",
            " 5   JobLevel                           1029 non-null   int64  \n",
            " 6   JobSatisfaction                    1029 non-null   int64  \n",
            " 7   MonthlyIncome                      1029 non-null   int64  \n",
            " 8   MonthlyRate                        1029 non-null   int64  \n",
            " 9   NumCompaniesWorked                 1029 non-null   int64  \n",
            " 10  PercentSalaryHike                  1029 non-null   int64  \n",
            " 11  PerformanceRating                  1029 non-null   int64  \n",
            " 12  RelationshipSatisfaction           1029 non-null   int64  \n",
            " 13  StockOptionLevel                   1029 non-null   int64  \n",
            " 14  TotalWorkingYears                  1029 non-null   int64  \n",
            " 15  TrainingTimesLastYear              1029 non-null   int64  \n",
            " 16  WorkLifeBalance                    1029 non-null   int64  \n",
            " 17  YearsAtCompany                     1029 non-null   int64  \n",
            " 18  YearsInCurrentRole                 1029 non-null   int64  \n",
            " 19  YearsSinceLastPromotion            1029 non-null   int64  \n",
            " 20  YearsWithCurrManager               1029 non-null   int64  \n",
            " 21  Gender_Male                        1029 non-null   int64  \n",
            " 22  OverTime_Yes                       1029 non-null   int64  \n",
            " 23  BusinessTravel_Travel_Frequently   1029 non-null   int64  \n",
            " 24  BusinessTravel_Travel_Rarely       1029 non-null   int64  \n",
            " 25  Department_Research & Development  1029 non-null   int64  \n",
            " 26  Department_Sales                   1029 non-null   int64  \n",
            " 27  EducationField_Life Sciences       1029 non-null   int64  \n",
            " 28  EducationField_Marketing           1029 non-null   int64  \n",
            " 29  EducationField_Medical             1029 non-null   int64  \n",
            " 30  EducationField_Other               1029 non-null   int64  \n",
            " 31  EducationField_Technical Degree    1029 non-null   int64  \n",
            " 32  JobRole_Human Resources            1029 non-null   int64  \n",
            " 33  JobRole_Laboratory Technician      1029 non-null   int64  \n",
            " 34  JobRole_Manager                    1029 non-null   int64  \n",
            " 35  JobRole_Manufacturing Director     1029 non-null   int64  \n",
            " 36  JobRole_Research Director          1029 non-null   int64  \n",
            " 37  JobRole_Research Scientist         1029 non-null   int64  \n",
            " 38  JobRole_Sales Executive            1029 non-null   int64  \n",
            " 39  JobRole_Sales Representative       1029 non-null   int64  \n",
            " 40  MaritalStatus_Married              1029 non-null   int64  \n",
            " 41  MaritalStatus_Single               1029 non-null   int64  \n",
            "dtypes: float64(1), int64(41)\n",
            "memory usage: 337.8 KB\n"
          ]
        }
      ]
    },
    {
      "cell_type": "markdown",
      "source": [
        "We now have a complete dataset, which is purely numeric, and where we have a moderate set of features where obvious collinearity and lack of variance have been eliminated.\n",
        "\n",
        "We will next train a logistic regression model and use the coefficients to see if we can further eliminate features."
      ],
      "metadata": {
        "id": "gIgESKi52b3z"
      }
    },
    {
      "cell_type": "code",
      "source": [
        "x=df.loc[:, df.columns != 'Attrition'] #feature set\n",
        "y=df[\"Attrition\"] #target variable\n",
        "\n",
        "#split the data s.t. we have 20% for testing and 80% for training\n",
        "X_train, X_test, y_train, y_test = train_test_split(x, y, random_state=2)\n",
        "\n",
        "#train a lr using liblinear since it is generally good for small training sets\n",
        "lr = LogisticRegression(solver='liblinear', random_state=2)\n",
        "lr.fit(X_train, y_train)\n",
        "\n",
        "print('# of iterations %s' % lr.n_iter_[0])\n",
        "\n",
        "test_score = lr.score(X_test, y_test)\n",
        "train_score = lr.score(X_train, y_train)\n",
        "\n",
        "print('Score on training data: ', train_score)\n",
        "print('Score on test data: ', test_score)"
      ],
      "metadata": {
        "colab": {
          "base_uri": "https://localhost:8080/"
        },
        "id": "RGYZEPyFHddu",
        "outputId": "9e85663e-2b29-4189-8585-67d620c81804"
      },
      "execution_count": 11,
      "outputs": [
        {
          "output_type": "stream",
          "name": "stdout",
          "text": [
            "# of iterations 29\n",
            "Score on training data:  0.8780804150453956\n",
            "Score on test data:  0.8643410852713178\n"
          ]
        }
      ]
    },
    {
      "cell_type": "markdown",
      "source": [
        "Now that the model is trained, we can inspect the coefficients."
      ],
      "metadata": {
        "id": "lrcJtfog4I2h"
      }
    },
    {
      "cell_type": "code",
      "source": [
        "coefficients = lr.coef_\n",
        "feature_names = X_train.columns\n",
        "coefficients_df = pd.DataFrame(coefficients, columns=feature_names)\n",
        "pd.set_option('display.max_columns', None)\n",
        "coefficients_df.head()"
      ],
      "metadata": {
        "id": "FhB0Ee6oKch_",
        "colab": {
          "base_uri": "https://localhost:8080/",
          "height": 118
        },
        "outputId": "f9f9f69e-3309-4960-e220-b8c23b5cddbe"
      },
      "execution_count": 12,
      "outputs": [
        {
          "output_type": "execute_result",
          "data": {
            "text/plain": [
              "       Age  Education  EnvironmentSatisfaction  JobInvolvement  JobLevel  \\\n",
              "0  0.00662  -0.004683                -0.311567       -0.290681 -0.057589   \n",
              "\n",
              "   JobSatisfaction  MonthlyIncome  MonthlyRate  NumCompaniesWorked  \\\n",
              "0        -0.220821      -0.000034      0.00002            0.210553   \n",
              "\n",
              "   PercentSalaryHike  PerformanceRating  RelationshipSatisfaction  \\\n",
              "0           0.011371           0.189659                 -0.049516   \n",
              "\n",
              "   StockOptionLevel  TotalWorkingYears  TrainingTimesLastYear  \\\n",
              "0          -0.25219          -0.122852               -0.16398   \n",
              "\n",
              "   WorkLifeBalance  YearsAtCompany  YearsInCurrentRole  \\\n",
              "0        -0.045309        0.180912           -0.300014   \n",
              "\n",
              "   YearsSinceLastPromotion  YearsWithCurrManager  Gender_Male  OverTime_Yes  \\\n",
              "0                 0.121981             -0.046558     0.240695      1.277401   \n",
              "\n",
              "   BusinessTravel_Travel_Frequently  BusinessTravel_Travel_Rarely  \\\n",
              "0                          0.460081                      0.028976   \n",
              "\n",
              "   Department_Research & Development  Department_Sales  \\\n",
              "0                          -0.156403          0.226449   \n",
              "\n",
              "   EducationField_Life Sciences  EducationField_Marketing  \\\n",
              "0                     -0.245705                  0.191935   \n",
              "\n",
              "   EducationField_Medical  EducationField_Other  \\\n",
              "0               -0.045782             -0.067128   \n",
              "\n",
              "   EducationField_Technical Degree  JobRole_Human Resources  \\\n",
              "0                         0.220814                 0.083716   \n",
              "\n",
              "   JobRole_Laboratory Technician  JobRole_Manager  \\\n",
              "0                       0.251455        -0.003531   \n",
              "\n",
              "   JobRole_Manufacturing Director  JobRole_Research Director  \\\n",
              "0                       -0.113388                  -0.066458   \n",
              "\n",
              "   JobRole_Research Scientist  JobRole_Sales Executive  \\\n",
              "0                   -0.073097                -0.054494   \n",
              "\n",
              "   JobRole_Sales Representative  MaritalStatus_Married  MaritalStatus_Single  \n",
              "0                      0.266753              -0.111451              0.600881  "
            ],
            "text/html": [
              "\n",
              "  <div id=\"df-f742d1cb-9f25-4e0a-be2b-9139914ef1a9\" class=\"colab-df-container\">\n",
              "    <div>\n",
              "<style scoped>\n",
              "    .dataframe tbody tr th:only-of-type {\n",
              "        vertical-align: middle;\n",
              "    }\n",
              "\n",
              "    .dataframe tbody tr th {\n",
              "        vertical-align: top;\n",
              "    }\n",
              "\n",
              "    .dataframe thead th {\n",
              "        text-align: right;\n",
              "    }\n",
              "</style>\n",
              "<table border=\"1\" class=\"dataframe\">\n",
              "  <thead>\n",
              "    <tr style=\"text-align: right;\">\n",
              "      <th></th>\n",
              "      <th>Age</th>\n",
              "      <th>Education</th>\n",
              "      <th>EnvironmentSatisfaction</th>\n",
              "      <th>JobInvolvement</th>\n",
              "      <th>JobLevel</th>\n",
              "      <th>JobSatisfaction</th>\n",
              "      <th>MonthlyIncome</th>\n",
              "      <th>MonthlyRate</th>\n",
              "      <th>NumCompaniesWorked</th>\n",
              "      <th>PercentSalaryHike</th>\n",
              "      <th>PerformanceRating</th>\n",
              "      <th>RelationshipSatisfaction</th>\n",
              "      <th>StockOptionLevel</th>\n",
              "      <th>TotalWorkingYears</th>\n",
              "      <th>TrainingTimesLastYear</th>\n",
              "      <th>WorkLifeBalance</th>\n",
              "      <th>YearsAtCompany</th>\n",
              "      <th>YearsInCurrentRole</th>\n",
              "      <th>YearsSinceLastPromotion</th>\n",
              "      <th>YearsWithCurrManager</th>\n",
              "      <th>Gender_Male</th>\n",
              "      <th>OverTime_Yes</th>\n",
              "      <th>BusinessTravel_Travel_Frequently</th>\n",
              "      <th>BusinessTravel_Travel_Rarely</th>\n",
              "      <th>Department_Research &amp; Development</th>\n",
              "      <th>Department_Sales</th>\n",
              "      <th>EducationField_Life Sciences</th>\n",
              "      <th>EducationField_Marketing</th>\n",
              "      <th>EducationField_Medical</th>\n",
              "      <th>EducationField_Other</th>\n",
              "      <th>EducationField_Technical Degree</th>\n",
              "      <th>JobRole_Human Resources</th>\n",
              "      <th>JobRole_Laboratory Technician</th>\n",
              "      <th>JobRole_Manager</th>\n",
              "      <th>JobRole_Manufacturing Director</th>\n",
              "      <th>JobRole_Research Director</th>\n",
              "      <th>JobRole_Research Scientist</th>\n",
              "      <th>JobRole_Sales Executive</th>\n",
              "      <th>JobRole_Sales Representative</th>\n",
              "      <th>MaritalStatus_Married</th>\n",
              "      <th>MaritalStatus_Single</th>\n",
              "    </tr>\n",
              "  </thead>\n",
              "  <tbody>\n",
              "    <tr>\n",
              "      <th>0</th>\n",
              "      <td>0.00662</td>\n",
              "      <td>-0.004683</td>\n",
              "      <td>-0.311567</td>\n",
              "      <td>-0.290681</td>\n",
              "      <td>-0.057589</td>\n",
              "      <td>-0.220821</td>\n",
              "      <td>-0.000034</td>\n",
              "      <td>0.00002</td>\n",
              "      <td>0.210553</td>\n",
              "      <td>0.011371</td>\n",
              "      <td>0.189659</td>\n",
              "      <td>-0.049516</td>\n",
              "      <td>-0.25219</td>\n",
              "      <td>-0.122852</td>\n",
              "      <td>-0.16398</td>\n",
              "      <td>-0.045309</td>\n",
              "      <td>0.180912</td>\n",
              "      <td>-0.300014</td>\n",
              "      <td>0.121981</td>\n",
              "      <td>-0.046558</td>\n",
              "      <td>0.240695</td>\n",
              "      <td>1.277401</td>\n",
              "      <td>0.460081</td>\n",
              "      <td>0.028976</td>\n",
              "      <td>-0.156403</td>\n",
              "      <td>0.226449</td>\n",
              "      <td>-0.245705</td>\n",
              "      <td>0.191935</td>\n",
              "      <td>-0.045782</td>\n",
              "      <td>-0.067128</td>\n",
              "      <td>0.220814</td>\n",
              "      <td>0.083716</td>\n",
              "      <td>0.251455</td>\n",
              "      <td>-0.003531</td>\n",
              "      <td>-0.113388</td>\n",
              "      <td>-0.066458</td>\n",
              "      <td>-0.073097</td>\n",
              "      <td>-0.054494</td>\n",
              "      <td>0.266753</td>\n",
              "      <td>-0.111451</td>\n",
              "      <td>0.600881</td>\n",
              "    </tr>\n",
              "  </tbody>\n",
              "</table>\n",
              "</div>\n",
              "    <div class=\"colab-df-buttons\">\n",
              "\n",
              "  <div class=\"colab-df-container\">\n",
              "    <button class=\"colab-df-convert\" onclick=\"convertToInteractive('df-f742d1cb-9f25-4e0a-be2b-9139914ef1a9')\"\n",
              "            title=\"Convert this dataframe to an interactive table.\"\n",
              "            style=\"display:none;\">\n",
              "\n",
              "  <svg xmlns=\"http://www.w3.org/2000/svg\" height=\"24px\" viewBox=\"0 -960 960 960\">\n",
              "    <path d=\"M120-120v-720h720v720H120Zm60-500h600v-160H180v160Zm220 220h160v-160H400v160Zm0 220h160v-160H400v160ZM180-400h160v-160H180v160Zm440 0h160v-160H620v160ZM180-180h160v-160H180v160Zm440 0h160v-160H620v160Z\"/>\n",
              "  </svg>\n",
              "    </button>\n",
              "\n",
              "  <style>\n",
              "    .colab-df-container {\n",
              "      display:flex;\n",
              "      gap: 12px;\n",
              "    }\n",
              "\n",
              "    .colab-df-convert {\n",
              "      background-color: #E8F0FE;\n",
              "      border: none;\n",
              "      border-radius: 50%;\n",
              "      cursor: pointer;\n",
              "      display: none;\n",
              "      fill: #1967D2;\n",
              "      height: 32px;\n",
              "      padding: 0 0 0 0;\n",
              "      width: 32px;\n",
              "    }\n",
              "\n",
              "    .colab-df-convert:hover {\n",
              "      background-color: #E2EBFA;\n",
              "      box-shadow: 0px 1px 2px rgba(60, 64, 67, 0.3), 0px 1px 3px 1px rgba(60, 64, 67, 0.15);\n",
              "      fill: #174EA6;\n",
              "    }\n",
              "\n",
              "    .colab-df-buttons div {\n",
              "      margin-bottom: 4px;\n",
              "    }\n",
              "\n",
              "    [theme=dark] .colab-df-convert {\n",
              "      background-color: #3B4455;\n",
              "      fill: #D2E3FC;\n",
              "    }\n",
              "\n",
              "    [theme=dark] .colab-df-convert:hover {\n",
              "      background-color: #434B5C;\n",
              "      box-shadow: 0px 1px 3px 1px rgba(0, 0, 0, 0.15);\n",
              "      filter: drop-shadow(0px 1px 2px rgba(0, 0, 0, 0.3));\n",
              "      fill: #FFFFFF;\n",
              "    }\n",
              "  </style>\n",
              "\n",
              "    <script>\n",
              "      const buttonEl =\n",
              "        document.querySelector('#df-f742d1cb-9f25-4e0a-be2b-9139914ef1a9 button.colab-df-convert');\n",
              "      buttonEl.style.display =\n",
              "        google.colab.kernel.accessAllowed ? 'block' : 'none';\n",
              "\n",
              "      async function convertToInteractive(key) {\n",
              "        const element = document.querySelector('#df-f742d1cb-9f25-4e0a-be2b-9139914ef1a9');\n",
              "        const dataTable =\n",
              "          await google.colab.kernel.invokeFunction('convertToInteractive',\n",
              "                                                    [key], {});\n",
              "        if (!dataTable) return;\n",
              "\n",
              "        const docLinkHtml = 'Like what you see? Visit the ' +\n",
              "          '<a target=\"_blank\" href=https://colab.research.google.com/notebooks/data_table.ipynb>data table notebook</a>'\n",
              "          + ' to learn more about interactive tables.';\n",
              "        element.innerHTML = '';\n",
              "        dataTable['output_type'] = 'display_data';\n",
              "        await google.colab.output.renderOutput(dataTable, element);\n",
              "        const docLink = document.createElement('div');\n",
              "        docLink.innerHTML = docLinkHtml;\n",
              "        element.appendChild(docLink);\n",
              "      }\n",
              "    </script>\n",
              "  </div>\n",
              "\n",
              "\n",
              "    </div>\n",
              "  </div>\n"
            ],
            "application/vnd.google.colaboratory.intrinsic+json": {
              "type": "dataframe",
              "variable_name": "coefficients_df"
            }
          },
          "metadata": {},
          "execution_count": 12
        }
      ]
    },
    {
      "cell_type": "markdown",
      "source": [
        "MontlyRate and MonthlyIncome are variables very likely to have collinearty that were missed earlier. We will remove them now.\n",
        "\n",
        "Education seems to have very low impact on the model. We will therefore remove it in an attempt to simplify the model.\n",
        "\n",
        "Although Age turns out to seemingly have low impact as well, we will leave it for now as we might could create a new feature by crossing this with some other variable."
      ],
      "metadata": {
        "id": "ORK1azS44rYx"
      }
    },
    {
      "cell_type": "code",
      "source": [
        "df.drop(columns=[\"MonthlyRate\",\"MonthlyIncome\",\"Education\"],inplace=True)"
      ],
      "metadata": {
        "id": "fAaxPPkBXWpb"
      },
      "execution_count": 13,
      "outputs": []
    },
    {
      "cell_type": "markdown",
      "source": [
        "Now we will trian a new model in the same method with the new feature set."
      ],
      "metadata": {
        "id": "hsEg8A5Y5Ae2"
      }
    },
    {
      "cell_type": "code",
      "source": [
        "x=df.loc[:, df.columns != 'Attrition']\n",
        "y=df[\"Attrition\"]\n",
        "\n",
        "X_train, X_test, y_train, y_test = train_test_split(x, y, random_state=2)\n",
        "\n",
        "lr = LogisticRegression(solver='liblinear', random_state=2)\n",
        "lr.fit(X_train, y_train)\n",
        "\n",
        "print('# of iterations %s' % lr.n_iter_[0])\n",
        "\n",
        "test_score = lr.score(X_test, y_test)\n",
        "train_score = lr.score(X_train, y_train)\n",
        "\n",
        "print('Score on training data: ', train_score)\n",
        "print('Score on test data: ', test_score)"
      ],
      "metadata": {
        "colab": {
          "base_uri": "https://localhost:8080/"
        },
        "id": "UQ7WT7xtX3D4",
        "outputId": "267e4895-c0cc-480c-efb7-cbb6c11cafe0"
      },
      "execution_count": 14,
      "outputs": [
        {
          "output_type": "stream",
          "name": "stdout",
          "text": [
            "# of iterations 15\n",
            "Score on training data:  0.8832684824902723\n",
            "Score on test data:  0.8914728682170543\n"
          ]
        }
      ]
    },
    {
      "cell_type": "markdown",
      "source": [
        "We have a slight improvement - notably on the test data meaning we have possible reduced overfitting by a bit."
      ],
      "metadata": {
        "id": "Kduc3Jzb5Ifu"
      }
    },
    {
      "cell_type": "code",
      "source": [
        "#create a dataframe to track our scores on the following models\n",
        "scores_df=pd.DataFrame(columns=[\"Model\",\"Method\",\"Accuracy\"])"
      ],
      "metadata": {
        "id": "7fIPRWCGtIfy"
      },
      "execution_count": 15,
      "outputs": []
    },
    {
      "cell_type": "markdown",
      "source": [
        "In the following sections we will take this aproach:\n",
        "\n",
        "\n",
        "*   Use 5-fold cross validation to get the average accuracy for a model  \n",
        "*   Use grid search 5 fold cross validation to tune a set of parameters for the  model within a restircted value set\n",
        "*   Register the average and best average accuracy for the above in a dataframe\n",
        "\n",
        "This will be applied across Logistic Regression, Random Forest, and Gradient Boosting models.\n",
        "\n",
        "\n",
        "\n",
        "\n"
      ],
      "metadata": {
        "id": "QMBzVKu55g48"
      }
    },
    {
      "cell_type": "code",
      "source": [
        "#use CV on a logistic regression model\n",
        "cv_results = cross_validate(\n",
        "    lr, x, y, cv=5,\n",
        "    scoring=['accuracy', 'precision', 'recall', 'f1'],  # Metrics to calculate\n",
        "    return_train_score=True  # If you want to see the train scores as well\n",
        ")\n",
        "\n",
        "print(\"Average accuracy:\", cv_results['test_accuracy'].mean())\n",
        "print(\"Average precision:\", cv_results['test_precision'].mean())\n",
        "print(\"Average recall:\", cv_results['test_recall'].mean())\n",
        "print(\"Average F1 score:\", cv_results['test_f1'].mean())\n",
        "\n",
        "#save the accuracy\n",
        "new_row=pd.DataFrame({'Model': ['Logistic Regression'], 'Method': ['Default'], \"Accuracy\": [ cv_results['test_accuracy'].mean()]})\n",
        "scores_df = pd.concat([scores_df, new_row], ignore_index=True)"
      ],
      "metadata": {
        "colab": {
          "base_uri": "https://localhost:8080/"
        },
        "id": "wUKBicb6beyh",
        "outputId": "6f1489dd-46e4-4a0d-fa5f-8bca6beb1a33"
      },
      "execution_count": 16,
      "outputs": [
        {
          "output_type": "stream",
          "name": "stdout",
          "text": [
            "Average accuracy: 0.8717120530428606\n",
            "Average precision: 0.7335943724044411\n",
            "Average recall: 0.41460317460317453\n",
            "Average F1 score: 0.5247012618734046\n"
          ]
        },
        {
          "output_type": "stream",
          "name": "stderr",
          "text": [
            "<ipython-input-16-61170fef1c03>:15: FutureWarning: The behavior of DataFrame concatenation with empty or all-NA entries is deprecated. In a future version, this will no longer exclude empty or all-NA columns when determining the result dtypes. To retain the old behavior, exclude the relevant entries before the concat operation.\n",
            "  scores_df = pd.concat([scores_df, new_row], ignore_index=True)\n"
          ]
        }
      ]
    },
    {
      "cell_type": "code",
      "source": [
        "#use grid search on the logistic regression model\n",
        "param_grid = {\n",
        "    'C': [0.01, 0.1, 1, 10],\n",
        "    'penalty': ['l1','l2'],\n",
        "    'solver': ['liblinear']\n",
        "}\n",
        "grid_search = GridSearchCV(lr, param_grid, cv=5, scoring='accuracy')\n",
        "grid_search.fit(x, y)\n",
        "print(\"Best parameters:\", grid_search.best_params_)\n",
        "print(\"Best cross-validation accuracy:\", grid_search.best_score_)\n",
        "\n",
        "new_row=pd.DataFrame({'Model': ['Logistic Regression'], 'Method': ['Param Search'], \"Accuracy\": [grid_search.best_score_]})\n",
        "scores_df = pd.concat([scores_df, new_row], ignore_index=True)"
      ],
      "metadata": {
        "colab": {
          "base_uri": "https://localhost:8080/"
        },
        "id": "yHD_NPCychEn",
        "outputId": "4f266290-a304-4110-ab1d-8d4f433104ac"
      },
      "execution_count": 17,
      "outputs": [
        {
          "output_type": "stream",
          "name": "stdout",
          "text": [
            "Best parameters: {'C': 0.1, 'penalty': 'l2', 'solver': 'liblinear'}\n",
            "Best cross-validation accuracy: 0.8736585365853659\n"
          ]
        }
      ]
    },
    {
      "cell_type": "code",
      "source": [
        "#use CV on a random forest model\n",
        "rf=RandomForestClassifier(random_state=42)\n",
        "cv_results = cross_validate(\n",
        "    rf, x, y, cv=5,\n",
        "    scoring=['accuracy', 'precision', 'recall', 'f1'],  # Metrics to calculate\n",
        "    return_train_score=True  # If you want to see the train scores as well\n",
        ")\n",
        "\n",
        "print(\"Average accuracy:\", cv_results['test_accuracy'].mean())\n",
        "print(\"Average precision:\", cv_results['test_precision'].mean())\n",
        "print(\"Average recall:\", cv_results['test_recall'].mean())\n",
        "print(\"Average F1 score:\", cv_results['test_f1'].mean())\n",
        "\n",
        "new_row=pd.DataFrame({'Model': ['Random Forest'], 'Method': ['Default'], \"Accuracy\": [cv_results['test_accuracy'].mean()]})\n",
        "scores_df = pd.concat([scores_df, new_row], ignore_index=True)"
      ],
      "metadata": {
        "id": "1nFow99aeApH",
        "colab": {
          "base_uri": "https://localhost:8080/"
        },
        "outputId": "7c5c79bc-bf13-4ca6-d8bc-e550ac1e01e0"
      },
      "execution_count": 18,
      "outputs": [
        {
          "output_type": "stream",
          "name": "stdout",
          "text": [
            "Average accuracy: 0.8503480937721998\n",
            "Average precision: 0.7758823529411765\n",
            "Average recall: 0.19857142857142857\n",
            "Average F1 score: 0.30926819755253276\n"
          ]
        }
      ]
    },
    {
      "cell_type": "code",
      "source": [
        "#use grid search on a random forest model\n",
        "param_grid = {\n",
        "    'n_estimators': [10, 20, 30],\n",
        "    'max_depth': [5, 10],\n",
        "    'max_features': ['sqrt', 'log2'],\n",
        "    'criterion': ['gini', 'entropy']\n",
        "}\n",
        "\n",
        "grid_search = GridSearchCV(rf, param_grid, cv=5, scoring='accuracy')\n",
        "grid_search.fit(x, y)\n",
        "print(\"Best parameters:\", grid_search.best_params_)\n",
        "print(\"Best cross-validation accuracy:\", grid_search.best_score_)\n",
        "\n",
        "new_row=pd.DataFrame({'Model': ['Random Forest'], 'Method': ['Param Search'], \"Accuracy\": [grid_search.best_score_]})\n",
        "scores_df = pd.concat([scores_df, new_row], ignore_index=True)"
      ],
      "metadata": {
        "colab": {
          "base_uri": "https://localhost:8080/"
        },
        "id": "xpi6hXXOoomd",
        "outputId": "574f17d6-4327-40f3-bc36-19a4cfc54b30"
      },
      "execution_count": 19,
      "outputs": [
        {
          "output_type": "stream",
          "name": "stdout",
          "text": [
            "Best parameters: {'criterion': 'entropy', 'max_depth': 10, 'max_features': 'log2', 'n_estimators': 30}\n",
            "Best cross-validation accuracy: 0.8513189675586077\n"
          ]
        }
      ]
    },
    {
      "cell_type": "code",
      "source": [
        "#use CV on a gradient boosting model\n",
        "gb = GradientBoostingClassifier(random_state=42)\n",
        "cv_results = cross_validate(\n",
        "    gb, x, y, cv=5,\n",
        "    scoring=['accuracy', 'precision', 'recall', 'f1'],\n",
        "    return_train_score=True\n",
        ")\n",
        "\n",
        "print(\"Average accuracy:\", cv_results['test_accuracy'].mean())\n",
        "print(\"Average precision:\", cv_results['test_precision'].mean())\n",
        "print(\"Average recall:\", cv_results['test_recall'].mean())\n",
        "print(\"Average F1 score:\", cv_results['test_f1'].mean())\n",
        "\n",
        "new_row=pd.DataFrame({'Model': ['Gradient Boosting'], 'Method': ['Default'], \"Accuracy\": [cv_results['test_accuracy'].mean()]})\n",
        "scores_df = pd.concat([scores_df, new_row], ignore_index=True)"
      ],
      "metadata": {
        "colab": {
          "base_uri": "https://localhost:8080/"
        },
        "id": "i5BMIVqkq9gm",
        "outputId": "37dea4f6-197e-492a-f862-b93dfafa40c0"
      },
      "execution_count": 20,
      "outputs": [
        {
          "output_type": "stream",
          "name": "stdout",
          "text": [
            "Average accuracy: 0.8658726024153445\n",
            "Average precision: 0.7259006353124\n",
            "Average recall: 0.3685714285714286\n",
            "Average F1 score: 0.4807791811247844\n"
          ]
        }
      ]
    },
    {
      "cell_type": "code",
      "source": [
        "#use grid search on a gradient boosting model\n",
        "param_grid = {\n",
        "    'n_estimators': [10, 20, 30],\n",
        "    'max_depth': [5, 10],\n",
        "    'learning_rate': [0.01, 0.1, 0.2],\n",
        "    'subsample': [0.8, 1.0],\n",
        "    'max_features': ['sqrt', 'log2']\n",
        "}\n",
        "\n",
        "grid_search = GridSearchCV(gb, param_grid, cv=5, scoring='accuracy')\n",
        "grid_search.fit(x, y)\n",
        "print(\"Best parameters:\", grid_search.best_params_)\n",
        "print(\"Best cross-validation accuracy:\", grid_search.best_score_)\n",
        "\n",
        "new_row=pd.DataFrame({'Model': ['Gradient Boosting'], 'Method': ['Param Search'], \"Accuracy\": [grid_search.best_score_]})\n",
        "scores_df = pd.concat([scores_df, new_row], ignore_index=True)"
      ],
      "metadata": {
        "colab": {
          "base_uri": "https://localhost:8080/"
        },
        "id": "99MvDPjArTku",
        "outputId": "193383e6-9ef0-482d-f959-46302dc9acf0"
      },
      "execution_count": 21,
      "outputs": [
        {
          "output_type": "stream",
          "name": "stdout",
          "text": [
            "Best parameters: {'learning_rate': 0.2, 'max_depth': 5, 'max_features': 'log2', 'n_estimators': 30, 'subsample': 1.0}\n",
            "Best cross-validation accuracy: 0.8590954297892492\n"
          ]
        }
      ]
    },
    {
      "cell_type": "markdown",
      "source": [
        "Let's take a look at the results, graphically."
      ],
      "metadata": {
        "id": "0udbgGue65Pd"
      }
    },
    {
      "cell_type": "code",
      "source": [
        "plt.figure(figsize=(10, 6))\n",
        "sns.barplot(data=scores_df, x='Model', y='Accuracy', hue='Method')\n",
        "\n",
        "plt.title('Model Accuracy Comparison')\n",
        "plt.xlabel('Model')\n",
        "plt.ylabel('Accuracy')\n",
        "plt.ylim(0.8, 0.9)\n",
        "plt.legend(title='Method')\n",
        "plt.grid(axis='y')\n",
        "plt.grid(False)\n",
        "\n",
        "plt.show()"
      ],
      "metadata": {
        "colab": {
          "base_uri": "https://localhost:8080/",
          "height": 564
        },
        "id": "v9akRn1Fv3Bw",
        "outputId": "8323189e-961b-4654-ef94-f175f06d3441"
      },
      "execution_count": 22,
      "outputs": [
        {
          "output_type": "display_data",
          "data": {
            "text/plain": [
              "<Figure size 1000x600 with 1 Axes>"
            ],
            "image/png": "[encoded data removed]"
          },
          "metadata": {}
        }
      ]
    },
    {
      "cell_type": "markdown",
      "source": [
        "The overall best model was a parameter-tuned Liblinear Logistic Regression classifier.\n",
        "\n",
        "What could we do to take this further and improve our results:\n",
        "\n",
        "\n",
        "*   Scale the data. This might improve overall performance and could allow for other LR solvers to be used.\n",
        "*   Execute PCA in order to further streamline the feature set.\n",
        "*   The target variable is not well-balanced. So, it might be wise to apply some resampling or weight classes.\n",
        "*   Use the variable Age crossed with some other variable (e.g. WorkLifeBalance) to create a new feature to see if that may be useful.\n",
        "\n",
        "\n",
        "\n"
      ],
      "metadata": {
        "id": "FYeyZp3X7SRS"
      }
    },
    {
      "cell_type": "code",
      "source": [
        "print(scores_df)"
      ],
      "metadata": {
        "colab": {
          "base_uri": "https://localhost:8080/"
        },
        "id": "IhXUKaZy3Gai",
        "outputId": "713bfb60-aa9d-4a93-b426-56a3704058f3"
      },
      "execution_count": 23,
      "outputs": [
        {
          "output_type": "stream",
          "name": "stdout",
          "text": [
            "                 Model        Method  Accuracy\n",
            "0  Logistic Regression       Default  0.871712\n",
            "1  Logistic Regression  Param Search  0.873659\n",
            "2        Random Forest       Default  0.850348\n",
            "3        Random Forest  Param Search  0.851319\n",
            "4    Gradient Boosting       Default  0.865873\n",
            "5    Gradient Boosting  Param Search  0.859095\n"
          ]
        }
      ]
    },
    {
      "cell_type": "code",
      "source": [],
      "metadata": {
        "id": "78Zw4Z5E3JAU"
      },
      "execution_count": null,
      "outputs": []
    }
  ]
}